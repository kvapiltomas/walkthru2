{
 "cells": [
  {
   "cell_type": "markdown",
   "id": "f4326b7c-dd67-4d80-b9d5-7c9e6a1fe01e",
   "metadata": {},
   "source": [
    "## Walkthru sample ntb"
   ]
  },
  {
   "cell_type": "markdown",
   "id": "5db6eb09-5ef5-4b37-a7f4-8ae4759c1fa8",
   "metadata": {},
   "source": [
    "Here is how I calculate `1+1`:"
   ]
  },
  {
   "cell_type": "code",
   "execution_count": 1,
   "id": "86938dda-c3cb-4cc4-a26d-850838363556",
   "metadata": {},
   "outputs": [
    {
     "data": {
      "text/plain": [
       "2"
      ]
     },
     "execution_count": 1,
     "metadata": {},
     "output_type": "execute_result"
    }
   ],
   "source": [
    "1+1"
   ]
  },
  {
   "cell_type": "code",
   "execution_count": 2,
   "id": "7db6efc7-92f2-47f1-9ed3-73a5bd9b1a19",
   "metadata": {},
   "outputs": [],
   "source": [
    "from numpy import *"
   ]
  },
  {
   "cell_type": "markdown",
   "id": "475aed85-a079-45b3-9096-eb6655c89201",
   "metadata": {},
   "source": [
    "Here is how I calcualte `sin`:"
   ]
  },
  {
   "cell_type": "code",
   "execution_count": null,
   "id": "ad00d9c9-0d3b-499d-ae22-f70f273ee336",
   "metadata": {},
   "outputs": [],
   "source": [
    "a = array"
   ]
  }
 ],
 "metadata": {
  "kernelspec": {
   "display_name": "Python 3 (ipykernel)",
   "language": "python",
   "name": "python3"
  },
  "language_info": {
   "codemirror_mode": {
    "name": "ipython",
    "version": 3
   },
   "file_extension": ".py",
   "mimetype": "text/x-python",
   "name": "python",
   "nbconvert_exporter": "python",
   "pygments_lexer": "ipython3",
   "version": "3.10.6"
  }
 },
 "nbformat": 4,
 "nbformat_minor": 5
}
